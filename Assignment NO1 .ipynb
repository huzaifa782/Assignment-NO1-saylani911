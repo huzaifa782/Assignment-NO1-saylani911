{
 "cells": [
  {
   "cell_type": "markdown",
   "id": "68423d41",
   "metadata": {},
   "source": [
    "# 1) A company decided to give bonus of 5% to employee if his/her year of service is more than 5 years.\n",
    "Ask user for their salary and year of service and print the net bonus amount."
   ]
  },
  {
   "cell_type": "code",
   "execution_count": 1,
   "id": "4602bcfe",
   "metadata": {},
   "outputs": [],
   "source": [
    "salary = float(input(\"Enter your salary: \"))\n",
    "years_of_service = int(input(\"Enter your years of service: \"))\n",
    "\n",
    "if years_of_service > 5:\n",
    "    bonus_percentage = 5\n",
    "    bonus_amount = (bonus_percentage / 100) * salary\n",
    "\n",
    "    print(f\"Congratulations! You are eligible for a {bonus_percentage}% bonus.\")\n",
    "    print(f\"Net bonus amount: ${bonus_amount:.2f}\")\n",
    "else:\n",
    "    print(\"Sorry, you are not eligible for a bonus.\")\n"
   ]
  },
  {
   "cell_type": "markdown",
   "id": "1a1586d0",
   "metadata": {},
   "source": [
    "## 2) Write a program to check whether a person is eligible for voting or not. (accept age from user) if age is greater than 17 eligible otherwise not eligible"
   ]
  },
  {
   "cell_type": "code",
   "execution_count": null,
   "id": "79b01aea",
   "metadata": {},
   "outputs": [
    {
     "name": "stdout",
     "output_type": "stream",
     "text": [
      "Enter your age: 55\n",
      "Congratulations! You are eligible for voting.\n"
     ]
    }
   ],
   "source": [
    "age = int(input(\"Enter your age: \"))\n",
    "if age > 17:\n",
    "    print(\"Congratulations! You are eligible for voting.\")\n",
    "else:\n",
    "    print(\"Sorry, you are not eligible for voting yet.\")"
   ]
  },
  {
   "cell_type": "code",
   "execution_count": null,
   "id": "acee373c",
   "metadata": {},
   "outputs": [
    {
     "name": "stdout",
     "output_type": "stream",
     "text": [
      "Enter your age: 16\n",
      "Sorry, you are not eligible for voting yet.\n"
     ]
    }
   ],
   "source": [
    "age = int(input(\"Enter your age: \"))\n",
    "if age > 17:\n",
    "    print(\"Congratulations! You are eligible for voting.\")\n",
    "else:\n",
    "    print(\"Sorry, you are not eligible for voting yet.\")\n"
   ]
  },
  {
   "cell_type": "markdown",
   "id": "0b045663",
   "metadata": {},
   "source": [
    "## 3) Write a program to check whether a number entered by user is even or odd."
   ]
  },
  {
   "cell_type": "code",
   "execution_count": null,
   "id": "f3f48f8b",
   "metadata": {},
   "outputs": [
    {
     "name": "stdout",
     "output_type": "stream",
     "text": [
      "Enter a number: 5\n",
      "5 is an odd number.\n"
     ]
    }
   ],
   "source": [
    "number = int(input(\"Enter a number: \"))\n",
    "if number % 2 == 0:\n",
    "    print(f\"{number} is an even number.\")\n",
    "else:\n",
    "    print(f\"{number} is an odd number.\")\n"
   ]
  },
  {
   "cell_type": "code",
   "execution_count": null,
   "id": "b5b53efa",
   "metadata": {},
   "outputs": [
    {
     "name": "stdout",
     "output_type": "stream",
     "text": [
      "Enter a number: 6\n",
      "6 is an even number.\n"
     ]
    }
   ],
   "source": [
    "number = int(input(\"Enter a number: \"))\n",
    "\n",
    "if number % 2 == 0:\n",
    "    print(f\"{number} is an even number.\")\n",
    "else:\n",
    "    print(f\"{number} is an odd number.\")\n"
   ]
  },
  {
   "cell_type": "markdown",
   "id": "f66987c9",
   "metadata": {},
   "source": [
    "## 4) Write a program to check whether a number is divisible by 7 or not.\n",
    "Show Answer"
   ]
  },
  {
   "cell_type": "code",
   "execution_count": null,
   "id": "43717f05",
   "metadata": {},
   "outputs": [
    {
     "name": "stdout",
     "output_type": "stream",
     "text": [
      "Enter a number: 8\n",
      "8 is not divisible by 7.\n"
     ]
    }
   ],
   "source": [
    "number = int(input(\"Enter a number: \"))\n",
    "if number % 7 == 0:\n",
    "    print(f\"{number} is divisible by 7.\")\n",
    "else:\n",
    "    print(f\"{number} is not divisible by 7.\")\n"
   ]
  },
  {
   "cell_type": "code",
   "execution_count": null,
   "id": "994be6d6",
   "metadata": {},
   "outputs": [
    {
     "name": "stdout",
     "output_type": "stream",
     "text": [
      "Enter a number: 7\n",
      "7 is divisible by 7.\n"
     ]
    }
   ],
   "source": [
    "number = int(input(\"Enter a number: \"))\n",
    "if number % 7 == 0:\n",
    "    print(f\"{number} is divisible by 7.\")\n",
    "else:\n",
    "    print(f\"{number} is not divisible by 7.\")"
   ]
  },
  {
   "cell_type": "markdown",
   "id": "cd2d7981",
   "metadata": {},
   "source": [
    "##  5)\"Hello\" if a number entered by user is a multiple of five , otherwise print \"Bye\".\n"
   ]
  },
  {
   "cell_type": "code",
   "execution_count": null,
   "id": "67d533a2",
   "metadata": {},
   "outputs": [
    {
     "name": "stdout",
     "output_type": "stream",
     "text": [
      "Enter a number: 9\n",
      "Bye\n"
     ]
    }
   ],
   "source": [
    "number = int(input(\"Enter a number: \"))\n",
    "if number % 5 == 0:\n",
    "    print(\"Hello\")\n",
    "else:\n",
    "    print(\"Bye\")\n"
   ]
  },
  {
   "cell_type": "code",
   "execution_count": null,
   "id": "f3fceaca",
   "metadata": {},
   "outputs": [
    {
     "name": "stdout",
     "output_type": "stream",
     "text": [
      "Enter a number: 5\n",
      "Hello\n"
     ]
    }
   ],
   "source": [
    "number = int(input(\"Enter a number: \"))\n",
    "if number % 5 == 0:\n",
    "    print(\"Hello\")\n",
    "else:\n",
    "    print(\"Bye\")"
   ]
  },
  {
   "cell_type": "markdown",
   "id": "9d65a69d",
   "metadata": {},
   "source": [
    "## 6(For example if input unit is 350 than total bill amount is Rs.3500\n"
   ]
  },
  {
   "cell_type": "code",
   "execution_count": null,
   "id": "b6b509cf",
   "metadata": {},
   "outputs": [
    {
     "name": "stdout",
     "output_type": "stream",
     "text": [
      "Enter the number of units: 200\n",
      "Total bill amount is Rs.2000\n"
     ]
    }
   ],
   "source": [
    "unit = int(input(\"Enter the number of units: \"))\n",
    "rate_per_unit = 10\n",
    "total_bill = unit * rate_per_unit\n",
    "print(f\"Total bill amount is Rs.{total_bill}\")\n"
   ]
  },
  {
   "cell_type": "markdown",
   "id": "ffa5b706",
   "metadata": {},
   "source": [
    "#   7)Write a program to display the last digit of a number"
   ]
  },
  {
   "cell_type": "code",
   "execution_count": null,
   "id": "1632b6bd",
   "metadata": {},
   "outputs": [
    {
     "name": "stdout",
     "output_type": "stream",
     "text": [
      "Enter a number: 25\n",
      "The last digit of 25 is: 5\n"
     ]
    }
   ],
   "source": [
    "number = int(input(\"Enter a number: \"))\n",
    "last_digit = number % 10\n",
    "print(f\"The last digit of {number} is: {last_digit}\")\n"
   ]
  },
  {
   "cell_type": "code",
   "execution_count": null,
   "id": "9e7fad7b",
   "metadata": {},
   "outputs": [
    {
     "name": "stdout",
     "output_type": "stream",
     "text": [
      "Enter a number: 45\n",
      "The last digit of 45 is: 5\n"
     ]
    }
   ],
   "source": [
    "number = int(input(\"Enter a number: \"))\n",
    "last_digit = number % 10\n",
    "print(f\"The last digit of {number} is: {last_digit}\")"
   ]
  },
  {
   "cell_type": "markdown",
   "id": "0b8604e4",
   "metadata": {},
   "source": [
    "## Q8. Write a program to check whether the last digit of a number( entered by user ) is \n",
    "divisible by 3 or not."
   ]
  },
  {
   "cell_type": "code",
   "execution_count": null,
   "id": "cdad9ac8",
   "metadata": {},
   "outputs": [
    {
     "name": "stdout",
     "output_type": "stream",
     "text": [
      "Enter a number: 55\n",
      "The last digit (5) is not divisible by 3.\n"
     ]
    }
   ],
   "source": [
    "number = int(input(\"Enter a number: \"))\n",
    "last_digit = number % 10\n",
    "if last_digit % 3 == 0:\n",
    "    print(f\"The last digit ({last_digit}) is divisible by 3.\")\n",
    "else:\n",
    "    print(f\"The last digit ({last_digit}) is not divisible by 3.\")\n"
   ]
  },
  {
   "cell_type": "code",
   "execution_count": null,
   "id": "48926d14",
   "metadata": {},
   "outputs": [
    {
     "name": "stdout",
     "output_type": "stream",
     "text": [
      "Enter a number: 27\n",
      "The last digit (0) is divisible by 3.\n"
     ]
    }
   ],
   "source": [
    "number = int(input(\"Enter a number: \"))\n",
    "last_digit = number % 9\n",
    "if last_digit % 3 == 0:\n",
    "    print(f\"The last digit ({last_digit}) is divisible by 3.\")\n",
    "else:\n",
    "    print(f\"The last digit ({last_digit}) is not divisible by 3.\")"
   ]
  },
  {
   "cell_type": "markdown",
   "id": "c59cdca5",
   "metadata": {},
   "source": [
    "## 9) Take values of length and breadth of a rectangle from user and print if it is square or rectangle."
   ]
  },
  {
   "cell_type": "code",
   "execution_count": null,
   "id": "0430a1e5",
   "metadata": {},
   "outputs": [
    {
     "name": "stdout",
     "output_type": "stream",
     "text": [
      "Enter the length of the rectangle: 25\n",
      "Enter the breadth of the rectangle: 30\n",
      "It is a rectangle.\n"
     ]
    }
   ],
   "source": [
    "length = int(input(\"Enter the length of the rectangle: \"))\n",
    "breadth = int(input(\"Enter the breadth of the rectangle: \"))\n",
    "if length == breadth:\n",
    "    print(\"It is a square.\")\n",
    "else:\n",
    "    print(\"It is a rectangle.\")"
   ]
  },
  {
   "cell_type": "code",
   "execution_count": null,
   "id": "767aedc4",
   "metadata": {},
   "outputs": [
    {
     "name": "stdout",
     "output_type": "stream",
     "text": [
      "Enter the length of the rectangle: 15\n",
      "Enter the breadth of the rectangle: 15\n",
      "It is a square.\n"
     ]
    }
   ],
   "source": [
    "length = int(input(\"Enter the length of the rectangle: \"))\n",
    "breadth = int(input(\"Enter the breadth of the rectangle: \"))\n",
    "if length == breadth:\n",
    "    print(\"It is a square.\")\n",
    "else:\n",
    "    print(\"It is a rectangle.\")"
   ]
  },
  {
   "cell_type": "markdown",
   "id": "e65259f4",
   "metadata": {},
   "source": [
    "## 10) Take two int values from user and print greatest among them."
   ]
  },
  {
   "cell_type": "code",
   "execution_count": null,
   "id": "86774cb9",
   "metadata": {},
   "outputs": [
    {
     "name": "stdout",
     "output_type": "stream",
     "text": [
      "Enter the first integer: 5\n",
      "Enter the second integer: 4\n",
      "The greatest number is: 5\n"
     ]
    }
   ],
   "source": [
    "num1 = int(input(\"Enter the first integer: \"))\n",
    "num2 = int(input(\"Enter the second integer: \"))\n",
    "if num1 > num2:\n",
    "    print(\"The greatest number is:\", num1)\n",
    "elif num2 > num1:\n",
    "    print(\"The greatest number is:\", num2)\n",
    "else:\n",
    "    print(\"Both numbers are equal.\")"
   ]
  },
  {
   "cell_type": "code",
   "execution_count": null,
   "id": "22a16ac7",
   "metadata": {},
   "outputs": [
    {
     "name": "stdout",
     "output_type": "stream",
     "text": [
      "Enter the first integer: 7\n",
      "Enter the second integer: 7\n",
      "Both numbers are equal.\n"
     ]
    }
   ],
   "source": [
    "num1 = int(input(\"Enter the first integer: \"))\n",
    "num2 = int(input(\"Enter the second integer: \"))\n",
    "if num1 > num2:\n",
    "    print(\"The greatest number is:\", num1)\n",
    "elif num2 > num1:\n",
    "    print(\"The greatest number is:\", num2)\n",
    "else:\n",
    "    print(\"Both numbers are equal.\")"
   ]
  },
  {
   "cell_type": "markdown",
   "id": "31de06f3",
   "metadata": {},
   "source": [
    "## 11) A shop will give discount of 10% if the cost of purchased quantity is more than 1000.\n",
    "Ask user for quantity\n",
    "Suppose, one unit will cost 100.\n",
    "Judge and print total cost for user."
   ]
  },
  {
   "cell_type": "code",
   "execution_count": null,
   "id": "351889b4",
   "metadata": {},
   "outputs": [
    {
     "name": "stdout",
     "output_type": "stream",
     "text": [
      "Enter the quantity of items: 10\n",
      "Total cost for 10 items is: 9000.0\n"
     ]
    }
   ],
   "source": [
    "quantity = int(input(\"Enter the quantity of items: \"))\n",
    "cost_per_unit = 1000\n",
    "total_cost = quantity * cost_per_unit\n",
    "\n",
    "if total_cost > 1000:\n",
    "    discount = 0.10 * total_cost  \n",
    "    total_cost -= discount\n",
    "print(\"Total cost for\", quantity, \"items is:\", total_cost)"
   ]
  },
  {
   "cell_type": "markdown",
   "id": "5667eea5",
   "metadata": {},
   "source": [
    "## 12) A school has following rules for grading system:\n",
    "\n",
    "a. Below 25 - F\n",
    "\n",
    "b. 25 to 45 - E\n",
    "\n",
    "c. 45 to 50 - D\n",
    "\n",
    "d. 50 to 60 - C\n",
    "\n",
    "e. 60 to 80 - B\n",
    "\n",
    "f. Above 80 - A\n",
    "\n",
    "Ask user to enter marks and print the corresponding grade."
   ]
  },
  {
   "cell_type": "code",
   "execution_count": null,
   "id": "36e3140e",
   "metadata": {},
   "outputs": [
    {
     "name": "stdout",
     "output_type": "stream",
     "text": [
      "Enter the marks: 70\n",
      "Grade: B\n"
     ]
    }
   ],
   "source": [
    "marks = int(input(\"Enter the marks: \"))\n",
    "if marks < 25:\n",
    "    grade = \"F\"\n",
    "elif 25 <= marks < 45:\n",
    "    grade = \"E\"\n",
    "elif 45 <= marks < 50:\n",
    "    grade = \"D\"\n",
    "elif 50 <= marks < 60:\n",
    "    grade = \"C\"\n",
    "elif 60 <= marks < 80:\n",
    "    grade = \"B\"\n",
    "else:\n",
    "    grade = \"A\"\n",
    "print(\"Grade:\", grade)"
   ]
  },
  {
   "cell_type": "code",
   "execution_count": null,
   "id": "e387ce64",
   "metadata": {},
   "outputs": [
    {
     "name": "stdout",
     "output_type": "stream",
     "text": [
      "Enter the marks: 35\n",
      "Grade: E\n"
     ]
    }
   ],
   "source": [
    "marks = int(input(\"Enter the marks: \"))\n",
    "if marks < 25:\n",
    "    grade = \"F\"\n",
    "elif 25 <= marks < 45:\n",
    "    grade = \"E\"\n",
    "elif 45 <= marks < 50:\n",
    "    grade = \"D\"\n",
    "elif 50 <= marks < 60:\n",
    "    grade = \"C\"\n",
    "elif 60 <= marks < 80:\n",
    "    grade = \"B\"\n",
    "else:\n",
    "    grade = \"A\"\n",
    "print(\"Grade:\", grade)"
   ]
  },
  {
   "cell_type": "markdown",
   "id": "5276527b",
   "metadata": {},
   "source": [
    "## 13) Take input of age of 3 people by user and determine oldest and youngest among them."
   ]
  },
  {
   "cell_type": "code",
   "execution_count": 3,
   "id": "073478d2",
   "metadata": {},
   "outputs": [
    {
     "name": "stdout",
     "output_type": "stream",
     "text": [
      "Enter the age of the first person: 50\n",
      "Enter the age of the second person: 55\n",
      "Enter the age of the third person: 40\n",
      "Oldest person is 55 years old.\n",
      "Youngest person is 40 years old.\n"
     ]
    }
   ],
   "source": [
    "# Taking input from the user for the ages of three people\n",
    "age1 = int(input(\"Enter the age of the first person: \"))\n",
    "age2 = int(input(\"Enter the age of the second person: \"))\n",
    "age3 = int(input(\"Enter the age of the third person: \"))\n",
    "\n",
    "# Determining the oldest and youngest among them\n",
    "oldest = max(age1, age2, age3)\n",
    "youngest = min(age1, age2, age3)\n",
    "\n",
    "# Printing the results\n",
    "print(\"Oldest person is {} years old.\".format(oldest))\n",
    "print(\"Youngest person is {} years old.\".format(youngest))\n"
   ]
  },
  {
   "cell_type": "markdown",
   "id": "d35d21b5",
   "metadata": {},
   "source": [
    "## 14)A student will not be allowed to sit in exam if his/her attendence is less than 75%.\n",
    "\n",
    "Take following input from user\n",
    "\n",
    "Number of classes held\n",
    "\n",
    "Number of classes attended.\n",
    "\n",
    "And print\n",
    "\n",
    "percentage of class attended\n",
    "\n",
    "Is student is allowed to sit in exam or not."
   ]
  },
  {
   "cell_type": "code",
   "execution_count": 7,
   "id": "ac882ba1",
   "metadata": {},
   "outputs": [
    {
     "name": "stdout",
     "output_type": "stream",
     "text": [
      "Enter the number of classes held: 50\n",
      "Enter the number of classes attended: 40\n",
      "Percentage of classes attended: 80.0%\n",
      "The student is allowed to sit in the exam.\n"
     ]
    }
   ],
   "source": [
    "num_classes_held = int(input(\"Enter the number of classes held: \"))\n",
    "num_classes_attended = int(input(\"Enter the number of classes attended: \"))\n",
    "attendance_percentage = (num_classes_attended / num_classes_held) * 100\n",
    "print(f\"Percentage of classes attended: {attendance_percentage}%\")\n",
    "if attendance_percentage >= 75:\n",
    "    print(\"The student is allowed to sit in the exam.\")\n",
    "else:\n",
    "    print(\"The student is not allowed to sit in the exam due to low attendance.\")\n"
   ]
  },
  {
   "cell_type": "code",
   "execution_count": 8,
   "id": "293df941",
   "metadata": {},
   "outputs": [
    {
     "name": "stdout",
     "output_type": "stream",
     "text": [
      "Enter the number of classes held: 70\n",
      "Enter the number of classes attended: 40\n",
      "Percentage of classes attended: 57.14285714285714%\n",
      "The student is not allowed to sit in the exam due to low attendance.\n"
     ]
    }
   ],
   "source": [
    "num_classes_held = int(input(\"Enter the number of classes held: \"))\n",
    "num_classes_attended = int(input(\"Enter the number of classes attended: \"))\n",
    "attendance_percentage = (num_classes_attended / num_classes_held) * 100\n",
    "print(f\"Percentage of classes attended: {attendance_percentage}%\")\n",
    "if attendance_percentage >= 75:\n",
    "    print(\"The student is allowed to sit in the exam.\")\n",
    "else:\n",
    "    print(\"The student is not allowed to sit in the exam due to low attendance.\")"
   ]
  },
  {
   "cell_type": "markdown",
   "id": "c2519ba6",
   "metadata": {},
   "source": [
    "## 15) Modify the above question to allow student to sit if he/she has medical cause. Ask user if he/she has medical cause or not ( 'Y' or 'N' ) and print accordingly."
   ]
  },
  {
   "cell_type": "code",
   "execution_count": 9,
   "id": "adecec0c",
   "metadata": {},
   "outputs": [
    {
     "name": "stdout",
     "output_type": "stream",
     "text": [
      "Enter the number of classes held: 65\n",
      "Enter the number of classes attended: 45\n",
      "Percentage of classes attended: 69.23076923076923%\n",
      "Do you have a medical cause? (Enter 'Y' or 'N'): y\n",
      "The student is allowed to sit in the exam.\n"
     ]
    }
   ],
   "source": [
    "num_classes_held = int(input(\"Enter the number of classes held: \"))\n",
    "num_classes_attended = int(input(\"Enter the number of classes attended: \"))\n",
    "attendance_percentage = (num_classes_attended / num_classes_held) * 100\n",
    "print(f\"Percentage of classes attended: {attendance_percentage}%\")\n",
    "medical_cause = input(\"Do you have a medical cause? (Enter 'Y' or 'N'): \")\n",
    "\n",
    "if attendance_percentage >= 75 or medical_cause.upper() == 'Y':\n",
    "    print(\"The student is allowed to sit in the exam.\")\n",
    "else:\n",
    "    print(\"The student is not allowed to sit in the exam.\")\n"
   ]
  },
  {
   "cell_type": "markdown",
   "id": "5a2c9e70",
   "metadata": {},
   "source": [
    "## 16) Write a program to check if a year is leap year or not.\n",
    "\n",
    "If a year is divisible by 4 then it is leap year but if the year is century year like 2000, 1900, 2100 then it must be divisible by 400."
   ]
  },
  {
   "cell_type": "code",
   "execution_count": 10,
   "id": "490b3585",
   "metadata": {},
   "outputs": [
    {
     "name": "stdout",
     "output_type": "stream",
     "text": [
      "Enter a year: 8\n",
      "8 is a leap year.\n"
     ]
    }
   ],
   "source": [
    "year = int(input(\"Enter a year: \"))\n",
    "\n",
    "if (year % 4 == 0 and year % 100 != 0) or (year % 400 == 0):\n",
    "    print(f\"{year} is a leap year.\")\n",
    "else:\n",
    "    print(f\"{year} is not a leap year.\")\n"
   ]
  },
  {
   "cell_type": "code",
   "execution_count": 11,
   "id": "4b9d1bcb",
   "metadata": {},
   "outputs": [
    {
     "name": "stdout",
     "output_type": "stream",
     "text": [
      "Enter a year: 2024\n",
      "2024 is a leap year.\n"
     ]
    }
   ],
   "source": [
    "year = int(input(\"Enter a year: \"))\n",
    "\n",
    "if (year % 4 == 0 and year % 100 != 0) or (year % 400 == 0):\n",
    "    print(f\"{year} is a leap year.\")\n",
    "else:\n",
    "    print(f\"{year} is not a leap year.\")"
   ]
  },
  {
   "cell_type": "code",
   "execution_count": 12,
   "id": "7850e0d3",
   "metadata": {},
   "outputs": [
    {
     "name": "stdout",
     "output_type": "stream",
     "text": [
      "Enter a year: 2100\n",
      "2100 is not a leap year.\n"
     ]
    }
   ],
   "source": [
    "year = int(input(\"Enter a year: \"))\n",
    "\n",
    "if (year % 4 == 0 and year % 100 != 0) or (year % 400 == 0):\n",
    "    print(f\"{year} is a leap year.\")\n",
    "else:\n",
    "    print(f\"{year} is not a leap year.\")"
   ]
  },
  {
   "cell_type": "markdown",
   "id": "71dab379",
   "metadata": {},
   "source": [
    "## 17) Ask user to enter age, gender ( M or F ), marital status ( Y or N ) and then using following rules print their place of service.\n",
    "\n",
    "if employee is female, then she will work only in urban areas.\n",
    "\n",
    "if employee is a male and age is in between 20 to 40 then he may work in anywhere\n",
    "\n",
    "if employee is male and age is in between 40 t0 60 then he will work in urban areas only.\n",
    "\n",
    "And any other input of age should print \"ERROR\""
   ]
  },
  {
   "cell_type": "code",
   "execution_count": 13,
   "id": "7fbb7a0d",
   "metadata": {},
   "outputs": [
    {
     "name": "stdout",
     "output_type": "stream",
     "text": [
      "Enter your age: 55\n",
      "Enter your gender (M or F): F\n",
      "Enter your marital status (Y or N): N\n",
      "You will work in urban areas.\n"
     ]
    }
   ],
   "source": [
    "age = int(input(\"Enter your age: \"))\n",
    "gender = input(\"Enter your gender (M or F): \").upper()\n",
    "marital_status = input(\"Enter your marital status (Y or N): \").upper()\n",
    "if gender == 'F':\n",
    "    print(\"You will work in urban areas.\")\n",
    "elif gender == 'M' and 20 <= age <= 40:\n",
    "    print(\"You may work anywhere.\")\n",
    "elif gender == 'M' and 40 <= age <= 60:\n",
    "    print(\"You will work in urban areas only.\")\n",
    "else:\n",
    "    print(\"ERROR\")\n"
   ]
  },
  {
   "cell_type": "code",
   "execution_count": 15,
   "id": "a2e115da",
   "metadata": {},
   "outputs": [
    {
     "name": "stdout",
     "output_type": "stream",
     "text": [
      "Enter your age: 70\n",
      "Enter your gender (M or F): M\n",
      "Enter your marital status (Y or N): Y\n",
      "ERROR\n"
     ]
    }
   ],
   "source": [
    "age = int(input(\"Enter your age: \"))\n",
    "gender = input(\"Enter your gender (M or F): \").upper()\n",
    "marital_status = input(\"Enter your marital status (Y or N): \").upper()\n",
    "if gender == 'F':\n",
    "    print(\"You will work in urban areas.\")\n",
    "elif gender == 'M' and 20 <= age <= 40:\n",
    "    print(\"You may work anywhere.\")\n",
    "elif gender == 'M' and 40 <= age <= 60:\n",
    "    print(\"You will work in urban areas only.\")\n",
    "else:\n",
    "    print(\"ERROR\")"
   ]
  },
  {
   "cell_type": "code",
   "execution_count": null,
   "id": "7ea12493",
   "metadata": {},
   "outputs": [],
   "source": []
  }
 ],
 "metadata": {
  "kernelspec": {
   "display_name": "Python 3 (ipykernel)",
   "language": "python",
   "name": "python3"
  },
  "language_info": {
   "codemirror_mode": {
    "name": "ipython",
    "version": 3
   },
   "file_extension": ".py",
   "mimetype": "text/x-python",
   "name": "python",
   "nbconvert_exporter": "python",
   "pygments_lexer": "ipython3",
   "version": "3.11.5"
  }
 },
 "nbformat": 4,
 "nbformat_minor": 5
}
