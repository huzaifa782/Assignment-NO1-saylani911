{
 "cells": [
  {
   "cell_type": "markdown",
   "id": "d92411ae",
   "metadata": {},
   "source": [
    "## Scenario 1: Grocery Shopping List\n",
    "You are creating a program to manage a grocery shopping list. Users should be able to add items, \n",
    "remove items, and display the current list.\n",
    "\n"
   ]
  },
  {
   "cell_type": "code",
   "execution_count": 1,
   "id": "95e475fb",
   "metadata": {},
   "outputs": [],
   "source": [
    "Grocery_list = ['Rice', 'Wheat', 'Oil', 'Soap', 'Sugar','Salt']"
   ]
  },
  {
   "cell_type": "code",
   "execution_count": 2,
   "id": "9b30a214",
   "metadata": {},
   "outputs": [
    {
     "data": {
      "text/plain": [
       "['Rice', 'Wheat', 'Oil', 'Soap', 'Sugar', 'Salt']"
      ]
     },
     "execution_count": 2,
     "metadata": {},
     "output_type": "execute_result"
    }
   ],
   "source": [
    "Grocery_list"
   ]
  },
  {
   "cell_type": "code",
   "execution_count": 3,
   "id": "c7c91670",
   "metadata": {},
   "outputs": [],
   "source": [
    "Grocery_list = Grocery_list + ['Milk', 'lipton Tea']"
   ]
  },
  {
   "cell_type": "code",
   "execution_count": 4,
   "id": "67c1b564",
   "metadata": {},
   "outputs": [
    {
     "data": {
      "text/plain": [
       "['Rice', 'Wheat', 'Oil', 'Soap', 'Sugar', 'Salt', 'Milk', 'lipton Tea']"
      ]
     },
     "execution_count": 4,
     "metadata": {},
     "output_type": "execute_result"
    }
   ],
   "source": [
    "Grocery_list"
   ]
  },
  {
   "cell_type": "code",
   "execution_count": 6,
   "id": "c7b14d1a",
   "metadata": {},
   "outputs": [
    {
     "data": {
      "text/plain": [
       "'Oil'"
      ]
     },
     "execution_count": 6,
     "metadata": {},
     "output_type": "execute_result"
    }
   ],
   "source": [
    "Grocery_list.pop(2)"
   ]
  },
  {
   "cell_type": "code",
   "execution_count": 7,
   "id": "dd24f9c3",
   "metadata": {},
   "outputs": [
    {
     "data": {
      "text/plain": [
       "['Rice', 'Wheat', 'Soap', 'Sugar', 'Salt', 'Milk', 'lipton Tea']"
      ]
     },
     "execution_count": 7,
     "metadata": {},
     "output_type": "execute_result"
    }
   ],
   "source": [
    "Grocery_list"
   ]
  },
  {
   "cell_type": "code",
   "execution_count": 8,
   "id": "50326199",
   "metadata": {},
   "outputs": [],
   "source": [
    "Current_list = Grocery_list.copy()"
   ]
  },
  {
   "cell_type": "code",
   "execution_count": 9,
   "id": "f6259df5",
   "metadata": {},
   "outputs": [
    {
     "data": {
      "text/plain": [
       "['Rice', 'Wheat', 'Soap', 'Sugar', 'Salt', 'Milk', 'lipton Tea']"
      ]
     },
     "execution_count": 9,
     "metadata": {},
     "output_type": "execute_result"
    }
   ],
   "source": [
    "Current_list"
   ]
  },
  {
   "cell_type": "markdown",
   "id": "cf2d6afa",
   "metadata": {},
   "source": [
    "## Scenario 2: Student Grades\n",
    "You are managing student grades using a dictionary. You need to calculate the average grade.take \n",
    "atleast 5 Students grades & then calculate the average."
   ]
  },
  {
   "cell_type": "code",
   "execution_count": 7,
   "id": "30e54a5a",
   "metadata": {},
   "outputs": [],
   "source": [
    "student_grades = {'student1' : 100,\n",
    "                 'student2' : 78,\n",
    "                 'student3': 98,\n",
    "                 'student4': 88,\n",
    "                 'student': 99,}"
   ]
  },
  {
   "cell_type": "code",
   "execution_count": 8,
   "id": "f19b124f",
   "metadata": {},
   "outputs": [
    {
     "data": {
      "text/plain": [
       "{'student1': 100,\n",
       " 'student2': 78,\n",
       " 'student3': 98,\n",
       " 'student4': 88,\n",
       " 'student': 99}"
      ]
     },
     "execution_count": 8,
     "metadata": {},
     "output_type": "execute_result"
    }
   ],
   "source": [
    "student_grades"
   ]
  },
  {
   "cell_type": "code",
   "execution_count": 15,
   "id": "ff34bc66",
   "metadata": {},
   "outputs": [
    {
     "name": "stdout",
     "output_type": "stream",
     "text": [
      "STUDENT GRADES : {'student1': 100, 'student2': 78, 'student3': 98, 'student4': 88, 'student': 99}\n",
      "TOTAL GRADES : 463\n",
      "NUMBER OF STUDENT : 5\n",
      "AVERAGE GRADE : 92.6\n"
     ]
    }
   ],
   "source": [
    "total_grades = sum(student_grades.values())\n",
    "number_of_student = len(student_grades)\n",
    "average_grades = total_grades / number_of_student\n",
    "\n",
    "print('STUDENT GRADES :', student_grades )\n",
    "print('TOTAL GRADES :', total_grades )\n",
    "print('NUMBER OF STUDENT :', number_of_student )\n",
    "print('AVERAGE GRADE :',average_grades )"
   ]
  },
  {
   "cell_type": "markdown",
   "id": "2d6e9d84",
   "metadata": {},
   "source": [
    "## Scenario 3: Word Frequency Counter\n",
    "You are given a list of words, and you need to count the frequency of each word.,\n",
    "\n",
    "word_list = [\"apple\", \"banana\", \"apple\", \"orange\", \"banana\", \"grape\", \"apple\"]"
   ]
  },
  {
   "cell_type": "code",
   "execution_count": 76,
   "id": "4fdc50d2",
   "metadata": {},
   "outputs": [],
   "source": [
    "word_list = [\"apple\", \"banana\", \"apple\", \"orange\", \"banana\", \"grape\", \"apple\"]"
   ]
  },
  {
   "cell_type": "code",
   "execution_count": 77,
   "id": "487a3050",
   "metadata": {},
   "outputs": [
    {
     "data": {
      "text/plain": [
       "['apple', 'banana', 'apple', 'orange', 'banana', 'grape', 'apple']"
      ]
     },
     "execution_count": 77,
     "metadata": {},
     "output_type": "execute_result"
    }
   ],
   "source": [
    "word_list"
   ]
  },
  {
   "cell_type": "code",
   "execution_count": 78,
   "id": "a77f7c01",
   "metadata": {},
   "outputs": [],
   "source": [
    "fruit_count ={}"
   ]
  },
  {
   "cell_type": "code",
   "execution_count": 79,
   "id": "1782c2cb",
   "metadata": {},
   "outputs": [
    {
     "name": "stdout",
     "output_type": "stream",
     "text": [
      "apple : 3 times\n",
      "banana : 2 times\n",
      "orange : 1 times\n",
      "grape : 1 times\n"
     ]
    }
   ],
   "source": [
    "for word in word_list:\n",
    "    if word in fruit_count:\n",
    "        fruit_count[word] +=1\n",
    "    else:\n",
    "        fruit_count[word] = 1\n",
    "for word, fruit in fruit_count.items():\n",
    "    print(f\"{word} : {fruit} times\")"
   ]
  },
  {
   "cell_type": "markdown",
   "id": "de9dadce",
   "metadata": {},
   "source": [
    "## Scenario 4: Password Strength Checker\n",
    "You are creating a program to check the strength of passwords based on certain criteria.,\n",
    "\n",
    "• Password should be at least 8 characters long.\n",
    "\n",
    "• Password should contain at least one digit.\n",
    "\n",
    "• Password should contain at least one letter."
   ]
  },
  {
   "cell_type": "code",
   "execution_count": 8,
   "id": "76acc930",
   "metadata": {},
   "outputs": [
    {
     "name": "stdout",
     "output_type": "stream",
     "text": [
      "Enter your passwordhuzaifa12\n",
      "huzaifa12\n"
     ]
    }
   ],
   "source": [
    "letter = \"abcdefgijklmnopqrstuvwxyz\"\n",
    "digit = \"0123456789\"\n",
    "\n",
    "password = input(\"Enter your password\" )\n",
    "\n",
    "if len(password) > 8 and letter and digit:\n",
    "    print(password)\n",
    "else:\n",
    "    if len(password) < 8:\n",
    "        print(\"plz use at least 8 character long\")\n",
    "    if password != digit:\n",
    "        print(\"plz contain at least one character\")\n",
    "    if password != letter:\n",
    "        print(\"plz contain at least one letter\")"
   ]
  },
  {
   "cell_type": "markdown",
   "id": "6796d013",
   "metadata": {},
   "source": [
    "## Scenario 05: Voting System (Annual Employee Recognition Awards)\n",
    "You are developing a simple voting system for a contest. Users can vote for their Favorite option, and \n",
    "you need to count the votes.\n",
    "In a corporate setting, the HR department is organizing the Annual Employee Recognition Awards, \n",
    "where employees get the opportunity to vote for their colleagues nominated in different categories. \n",
    "The HR team has decided to use a simple voting system to collect and tally votes for the nominees in \n",
    "various award categories. The script provided will be utilized for this purpose.\n",
    "Candidates: The nominees for different award categories, such as \"Employee of the Year,\" \"Team \n",
    "Player of the Year,\" and \"Innovation Award,\" are represented by the list of candidates: 'Candidate A,' \n",
    "'Candidate B,' and 'Candidate C.'\n",
    "Voting Process: Employees are requested to input the number of voters participating in the awards. \n",
    "Each voter is presented with a list of nominees, and they can vote for their preferred candidate by \n",
    "entering the corresponding number.\n",
    "Validation: The script ensures that the entered vote is within the valid range of candidates. If an \n",
    "employee enters an invalid vote, the system prompts them to choose a valid candidate.\n",
    "Recording Votes: The script records each vote for the selected candidate and prints a confirmation \n",
    "message indicating that the vote has been recorded."
   ]
  },
  {
   "cell_type": "code",
   "execution_count": 1,
   "id": "ce61d949",
   "metadata": {},
   "outputs": [
    {
     "name": "stdout",
     "output_type": "stream",
     "text": [
      "Enter the number of voters: 2\n",
      "Candidates:\n",
      "1. Candidate A\n",
      "2. Candidate B\n",
      "3. Candidate C\n",
      "Enter the number corresponding to your chosen candidate: 1\n",
      "Vote recorded for Candidate A.\n",
      "\n",
      "Candidates:\n",
      "1. Candidate A\n",
      "2. Candidate B\n",
      "3. Candidate C\n",
      "Enter the number corresponding to your chosen candidate: 1\n",
      "Vote recorded for Candidate A.\n",
      "\n",
      "\n",
      "Voting Results:\n",
      "Candidate A: 2 votes\n",
      "Candidate B: 0 votes\n",
      "Candidate C: 0 votes\n",
      "\n",
      "Candidate A wins!\n"
     ]
    }
   ],
   "source": [
    "def print_candidates():\n",
    "    print(\"Candidates:\")\n",
    "    print(\"1. Candidate A\")\n",
    "    print(\"2. Candidate B\")\n",
    "    print(\"3. Candidate C\")\n",
    "\n",
    "def get_valid_vote():\n",
    "    while True:\n",
    "        try:\n",
    "            vote = int(input(\"Enter the number corresponding to your chosen candidate: \"))\n",
    "            if 1 <= vote <= 3:\n",
    "                return vote\n",
    "            else:\n",
    "                print(\"Invalid vote. Please enter a number between 1 and 3.\")\n",
    "        except ValueError:\n",
    "            print(\"Invalid input. Please enter a number.\")\n",
    "\n",
    "def main():\n",
    "    candidates = ['Candidate A', 'Candidate B', 'Candidate C']\n",
    "\n",
    "    num_voters = int(input(\"Enter the number of voters: \"))\n",
    "\n",
    "    votes = [0] * len(candidates)\n",
    "\n",
    "    for _ in range(num_voters):\n",
    "        print_candidates()\n",
    "        vote = get_valid_vote()\n",
    "        votes[vote - 1] += 1\n",
    "        print(f\"Vote recorded for {candidates[vote - 1]}.\\n\")\n",
    "\n",
    "    print(\"\\nVoting Results:\")\n",
    "    for i, candidate in enumerate(candidates):\n",
    "        print(f\"{candidate}: {votes[i]} votes\")\n",
    "\n",
    "\n",
    "    winner_index = votes.index(max(votes))\n",
    "    print(f\"\\n{candidates[winner_index]} wins!\")\n",
    "\n",
    "if __name__ == \"__main__\":\n",
    "    main()\n"
   ]
  },
  {
   "cell_type": "code",
   "execution_count": null,
   "id": "9713f1c9",
   "metadata": {},
   "outputs": [],
   "source": []
  }
 ],
 "metadata": {
  "kernelspec": {
   "display_name": "Python 3 (ipykernel)",
   "language": "python",
   "name": "python3"
  },
  "language_info": {
   "codemirror_mode": {
    "name": "ipython",
    "version": 3
   },
   "file_extension": ".py",
   "mimetype": "text/x-python",
   "name": "python",
   "nbconvert_exporter": "python",
   "pygments_lexer": "ipython3",
   "version": "3.11.5"
  }
 },
 "nbformat": 4,
 "nbformat_minor": 5
}
